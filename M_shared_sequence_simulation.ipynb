{
 "cells": [
  {
   "cell_type": "markdown",
   "metadata": {
    "collapsed": true
   },
   "source": [
    "# Shared Sequences Simulation\n",
    "\n",
    "#### Here we perform a simulation during which we generate an artificial dataset with the clone size distribution following a power law.\n",
    "\n",
    "#### We subsample the generated dataset twice with decreasing fractions and count how many shared sequences the two subsampled datasets have.\n",
    "\n",
    "#### The output is a plot of a fraction of shared sequences against the fraction to which the generated dataset is subsempled to."
   ]
  },
  {
   "cell_type": "code",
   "execution_count": null,
   "metadata": {
    "collapsed": true
   },
   "outputs": [],
   "source": [
    "from __future__ import division\n",
    "import pandas as pd\n",
    "import matplotlib.pyplot as plt\n",
    "import numpy as np\n",
    "import scipy.stats as stats\n",
    "import math\n",
    "%matplotlib inline"
   ]
  },
  {
   "cell_type": "code",
   "execution_count": 12,
   "metadata": {
    "collapsed": false
   },
   "outputs": [
    {
     "name": "stdout",
     "output_type": "stream",
     "text": [
      "/Users/kgrigait/Desktop/new_data\n"
     ]
    }
   ],
   "source": [
    "cd /Users/kgrigait/Desktop/new_data"
   ]
  },
  {
   "cell_type": "code",
   "execution_count": 2,
   "metadata": {
    "collapsed": true
   },
   "outputs": [],
   "source": [
    "def power_law(exponent, max_clone_size, sample_size):\n",
    "    \"\"\"This function simulates a dataset of clone sizes that follows a powerlaw\n",
    "    distribution with a given exponent.\n",
    "    Inputs:\n",
    "    -exponent = exponent of the powerlaw distribution equation (y=1/x^exponent),\n",
    "    -max_clone_size = the maximum possible clone size in the simulated dataset.\n",
    "    note that it does not mean maximum clone size will appear in the generated\n",
    "    dataset,\n",
    "    -sample_size = wanted number of datapoints in the dataset.\n",
    "    Returns:\n",
    "    -numpy array of clone sizes that has a size of sample_size parameter.\"\"\"\n",
    "    #arrange numpy array of number from 1 to max_clone_size+1 in the float format.\n",
    "    x = np.arange(1, max_clone_size+1, dtype='float')\n",
    "    #plug each value into powerlaw equation to start generating probability mass function (pmf)\n",
    "    pmf = 1/x**exponent\n",
    "    #divide each pmf value by the sum of all the pmf values. The sum of the resulting\n",
    "    #pmf array should become 1.\n",
    "    pmf /= pmf.sum()\n",
    "    #np.random.choice function generates a random sample of a given sample size\n",
    "    #from a given 1-D array x, given the probabilities for each value.\n",
    "    return np.random.choice(x, sample_size, p=pmf)"
   ]
  },
  {
   "cell_type": "code",
   "execution_count": 3,
   "metadata": {
    "collapsed": true
   },
   "outputs": [],
   "source": [
    "#Define the variables.\n",
    "exponent = 3.0\n",
    "max_clone_size = 700\n",
    "sample_size = 1000000\n",
    "\n",
    "#Generate clone size array\n",
    "clone_sizes=power_law(exponent, max_clone_size, sample_size)"
   ]
  },
  {
   "cell_type": "code",
   "execution_count": 4,
   "metadata": {
    "collapsed": false
   },
   "outputs": [],
   "source": [
    "#Take the clone sizes and back-generate the dataframe of sequences\n",
    "#(identified by numbers)\n",
    "data=pd.DataFrame(clone_sizes)\n",
    "data.columns=['number']\n",
    "data=pd.concat([data,pd.DataFrame(data.index.tolist())],axis=1)\n",
    "data.columns=['number','label']"
   ]
  },
  {
   "cell_type": "code",
   "execution_count": 5,
   "metadata": {
    "collapsed": true
   },
   "outputs": [],
   "source": [
    "#initiate sequence array\n",
    "data_final=np.array([])\n",
    "\n",
    "for i in range(0,len(data)):\n",
    "    #for each index, make an array of multiples of that index given the\n",
    "    #clone size that index is associated with and append the sequence array.\n",
    "    #this will take some time as it looping over a million indeces.\n",
    "    number=data.number.iloc[i]\n",
    "    data_final=np.append(data_final,np.array([data.label.iloc[i]]*number))"
   ]
  },
  {
   "cell_type": "code",
   "execution_count": 8,
   "metadata": {
    "collapsed": false
   },
   "outputs": [],
   "source": [
    "#Make a dataframe of sequences (identified by a number) and subsample down to a sample size of 1 million.\n",
    "S=pd.DataFrame(data_final)\n",
    "S.columns=['label']\n",
    "data = S.sample(n=1000000)\n",
    "\n",
    "#Calculate clone sizes and their frequencies for plotting the distribution.\n",
    "k=pd.DataFrame(data.label.value_counts())\n",
    "k=k.label.value_counts()\n",
    "x=np.array(k.index)\n",
    "y=np.array(k)\n",
    "y=np.divide(y,int(np.sum(y))+0.0)"
   ]
  },
  {
   "cell_type": "markdown",
   "metadata": {},
   "source": [
    "#### Figure 5D"
   ]
  },
  {
   "cell_type": "code",
   "execution_count": 13,
   "metadata": {
    "collapsed": false
   },
   "outputs": [
    {
     "data": {
      "image/png": "[encoded data removed]",
      "text/plain": [
       "<matplotlib.figure.Figure at 0x10e4ea250>"
      ]
     },
     "metadata": {},
     "output_type": "display_data"
    }
   ],
   "source": [
    "f, ax = plt.subplots()\n",
    "ax.plot(x, y, 'o', color='blue', markeredgecolor='black', markersize=8.0,alpha=1)\n",
    "plt.xscale('log')\n",
    "plt.yscale('log')\n",
    "plt.xlabel('clone size',fontsize=15)\n",
    "plt.ylabel('frequency',fontsize=15)\n",
    "plt.tight_layout()\n",
    "plt.savefig('simulated_powerlaw.png')"
   ]
  },
  {
   "cell_type": "code",
   "execution_count": 36,
   "metadata": {
    "collapsed": false
   },
   "outputs": [],
   "source": [
    "#Define arrays for downsampling and recording number of shared sequences for each subsample \n",
    "#and standard deviations acquired through bootstrapping.\n",
    "F=np.arange(1.0,0.05,-0.05)\n",
    "F=np.append(F,([0.05,0.01]))\n",
    "R=([])\n",
    "std=([])\n",
    "bootstrap=10"
   ]
  },
  {
   "cell_type": "code",
   "execution_count": 37,
   "metadata": {
    "collapsed": false
   },
   "outputs": [],
   "source": [
    "#loop over subsample fractions\n",
    "for k in range(0,len(F)):\n",
    "    #initiate an array for recording a number of shared sequences while bootstrapping.\n",
    "    a=([])\n",
    "    for i in range(0,bootstrap):\n",
    "        #subsample twice given the fraction.\n",
    "        s1 = data.sample(frac=F[k])\n",
    "        s2 = data.sample(frac=F[k])\n",
    "        #count the number of sequences shared between the two subsampled dataframes\n",
    "        S1=pd.DataFrame(s1.label.unique())\n",
    "        S2=pd.DataFrame(s2.label.unique())\n",
    "        S=pd.concat([S1,S2],axis=0)\n",
    "        S.columns=['label']\n",
    "        #update the array with the number of shared sequences each time\n",
    "        a=np.append(a,sum(S.label.value_counts()==2)/len(S.label.value_counts()))\n",
    "    #update arrays with mean number and standard deviation of shared sequences from the bootstrapping\n",
    "    R=np.append(R, np.mean(a))\n",
    "    std=np.append(std, np.std(a))\n",
    "#calculate standard error of the mean\n",
    "SEM=np.divide(std,bootstrap**0.5)"
   ]
  },
  {
   "cell_type": "markdown",
   "metadata": {},
   "source": [
    "#### Figure 5B"
   ]
  },
  {
   "cell_type": "code",
   "execution_count": 40,
   "metadata": {
    "collapsed": false
   },
   "outputs": [
    {
     "data": {
      "image/png": "[encoded data removed]",
      "text/plain": [
       "<matplotlib.figure.Figure at 0x10c4a9f90>"
      ]
     },
     "metadata": {},
     "output_type": "display_data"
    }
   ],
   "source": [
    "f, ax = plt.subplots()\n",
    "ax.scatter(F,R,color='red', edgecolor='black', marker='o', s=50, alpha=1)\n",
    "ax.errorbar(F, R, yerr=SEM, ls='none', color='black', elinewidth=1, capsize=2)\n",
    "ax.set_xlabel(\"Sample fraction\")\n",
    "ax.set_ylabel(\"Fraction of shared sequences\")\n",
    "plt.xlim(-0.05, 1.05)\n",
    "plt.ylim(-0.05, 1.05)\n",
    "plt.savefig('Shared_sequences_simulation.png')"
   ]
  },
  {
   "cell_type": "code",
   "execution_count": null,
   "metadata": {
    "collapsed": true
   },
   "outputs": [],
   "source": []
  }
 ],
 "metadata": {
  "kernelspec": {
   "display_name": "Python 2",
   "language": "python",
   "name": "python2"
  },
  "language_info": {
   "codemirror_mode": {
    "name": "ipython",
    "version": 2
   },
   "file_extension": ".py",
   "mimetype": "text/x-python",
   "name": "python",
   "nbconvert_exporter": "python",
   "pygments_lexer": "ipython2",
   "version": "2.7.13"
  }
 },
 "nbformat": 4,
 "nbformat_minor": 0
}
