{
 "cells": [
  {
   "cell_type": "markdown",
   "metadata": {
    "collapsed": true
   },
   "source": [
    "# Shared sequences among individuals"
   ]
  },
  {
   "cell_type": "code",
   "execution_count": 1,
   "metadata": {
    "collapsed": true
   },
   "outputs": [],
   "source": [
    "from __future__ import division\n",
    "import pandas as pd\n",
    "import matplotlib.pyplot as plt\n",
    "import numpy as np\n",
    "import math\n",
    "%matplotlib inline"
   ]
  },
  {
   "cell_type": "code",
   "execution_count": 2,
   "metadata": {
    "collapsed": false
   },
   "outputs": [
    {
     "name": "stdout",
     "output_type": "stream",
     "text": [
      "/Users/kgrigait/Desktop/new_data\n"
     ]
    }
   ],
   "source": [
    "cd /Users/kgrigait/Desktop/new_data"
   ]
  },
  {
   "cell_type": "code",
   "execution_count": 4,
   "metadata": {
    "collapsed": false
   },
   "outputs": [],
   "source": [
    "#Load data\n",
    "TRp_prod_1=pd.read_csv('S1/TRpairs_productive.txt', sep='\\t')\n",
    "TRp_prod_2=pd.read_csv('S2/TRpairs_productive.txt', sep='\\t')\n",
    "TRp_prod_3=pd.read_csv('S3/TRpairs_productive.txt', sep='\\t')\n",
    "TRp_prod_4=pd.read_csv('S4/TRpairs_productive.txt', sep='\\t')\n",
    "TRp_prod_5=pd.read_csv('S5/TRpairs_productive.txt', sep='\\t')\n",
    "\n",
    "TRA_prod_1=pd.read_csv('S1/TRAs_Final_productive.txt', sep='\\t')\n",
    "TRA_prod_2=pd.read_csv('S2/TRAs_Final_productive.txt', sep='\\t')\n",
    "TRA_prod_3=pd.read_csv('S3/TRAs_Final_productive.txt', sep='\\t')\n",
    "TRA_prod_4=pd.read_csv('S4/TRAs_Final_productive.txt', sep='\\t')\n",
    "TRA_prod_5=pd.read_csv('S5/TRAsFinal_productive.txt', sep='\\t')\n",
    "\n",
    "TRB_prod_1=pd.read_csv('S1/TRBs_Final_productive.txt', sep='\\t')\n",
    "TRB_prod_2=pd.read_csv('S2/TRBs_Final_productive.txt', sep='\\t')\n",
    "TRB_prod_3=pd.read_csv('S3/TRBs_Final_productive.txt', sep='\\t')\n",
    "TRB_prod_4=pd.read_csv('S4/TRBs_Final_productive.txt', sep='\\t')\n",
    "TRB_prod_5=pd.read_csv('S5/TRBsFinal_productive.txt', sep='\\t')"
   ]
  },
  {
   "cell_type": "code",
   "execution_count": 5,
   "metadata": {
    "collapsed": false
   },
   "outputs": [],
   "source": [
    "#Shared paired alpha beta CDR3 sequences.\n",
    "#Connect alpha and beta CDR3 sequences into one.\n",
    "TRp_prod_1['CDR3_AB'] = TRp_prod_1['NSeqCDR3A']+'_'+TRp_prod_1['NSeqCDR3B']\n",
    "TRp_prod_2['CDR3_AB'] = TRp_prod_2['NSeqCDR3A']+'_'+TRp_prod_2['NSeqCDR3B']\n",
    "TRp_prod_3['CDR3_AB'] = TRp_prod_3['NSeqCDR3A']+'_'+TRp_prod_3['NSeqCDR3B']\n",
    "TRp_prod_4['CDR3_AB'] = TRp_prod_4['NSeqCDR3A']+'_'+TRp_prod_4['NSeqCDR3B']\n",
    "TRp_prod_5['CDR3_AB'] = TRp_prod_5['NSeqCDR3A']+'_'+TRp_prod_5['NSeqCDR3B']\n",
    "\n",
    "#Get unique CDR3 sequences\n",
    "CDR3_1=pd.DataFrame(TRp_prod_1.CDR3_AB.unique())\n",
    "CDR3_2=pd.DataFrame(TRp_prod_2.CDR3_AB.unique())\n",
    "CDR3_3=pd.DataFrame(TRp_prod_3.CDR3_AB.unique())\n",
    "CDR3_4=pd.DataFrame(TRp_prod_4.CDR3_AB.unique())\n",
    "CDR3_5=pd.DataFrame(TRp_prod_5.CDR3_AB.unique())\n",
    "\n",
    "#Concatenate all 5 subjects into one dataframe.\n",
    "CDR3_p=pd.concat([CDR3_1,CDR3_2,CDR3_3,CDR3_4,CDR3_5],axis=0)\n",
    "CDR3_p.columns=['CDR3'] #rename the column into a string\n",
    "\n",
    "shared_paired=([]) #initialize an array of paired sequence numbers.\n",
    "for i in range(2,6):\n",
    "    #find number of sequences paired among 2,3,4 and 5 subjects and fill the array\n",
    "    shared_paired=np.append(shared_paired,sum(CDR3_p.CDR3.value_counts()==i))"
   ]
  },
  {
   "cell_type": "code",
   "execution_count": 6,
   "metadata": {
    "collapsed": true
   },
   "outputs": [],
   "source": [
    "#Shared alpha CDR3 sequences.\n",
    "CDR3a_1=pd.DataFrame(TRA_prod_1.nSeqCDR3.unique())\n",
    "CDR3a_2=pd.DataFrame(TRA_prod_2.nSeqCDR3.unique())\n",
    "CDR3a_3=pd.DataFrame(TRA_prod_3.nSeqCDR3.unique())\n",
    "CDR3a_4=pd.DataFrame(TRA_prod_4.nSeqCDR3.unique())\n",
    "CDR3a_5=pd.DataFrame(TRA_prod_5.nSeqCDR3.unique())\n",
    "\n",
    "#Concatenate all 5 subjects into one dataframe.\n",
    "CDR3_a=pd.concat([CDR3a_1,CDR3a_2,CDR3a_3,CDR3a_4,CDR3a_5],axis=0)\n",
    "CDR3_a.columns=['CDR3'] #rename the column into a string\n",
    "\n",
    "alpha_shared=([]) #initialize an array of paired sequence numbers.\n",
    "for i in range(2,6):\n",
    "    #find number of sequences paired among 2,3,4 and 5 subjects and fill the array\n",
    "    alpha_shared=np.append(alpha_shared,sum(CDR3_a.CDR3.value_counts()==i))"
   ]
  },
  {
   "cell_type": "code",
   "execution_count": 7,
   "metadata": {
    "collapsed": true
   },
   "outputs": [],
   "source": [
    "#Shared beta CDR3 sequences.\n",
    "#Get unique CDR3 sequences\n",
    "CDR3b_1=pd.DataFrame(TRB_prod_1.nSeqCDR3.unique())\n",
    "CDR3b_2=pd.DataFrame(TRB_prod_2.nSeqCDR3.unique())\n",
    "CDR3b_3=pd.DataFrame(TRB_prod_3.nSeqCDR3.unique())\n",
    "CDR3b_4=pd.DataFrame(TRB_prod_4.nSeqCDR3.unique())\n",
    "CDR3b_5=pd.DataFrame(TRB_prod_5.nSeqCDR3.unique())\n",
    "\n",
    "#Concatenate all 5 subjects into one dataframe.\n",
    "CDR3_b=pd.concat([CDR3b_1,CDR3b_2,CDR3b_3,CDR3b_4,CDR3b_5],axis=0)\n",
    "CDR3_b.columns=['CDR3'] #rename the column into a string\n",
    "\n",
    "beta_shared=([]) #initialize an array of paired sequence numbers.\n",
    "for i in range(2,6):\n",
    "    #find number of sequences paired among 2,3,4 and 5 subjects and fill the array\n",
    "    beta_shared=np.append(beta_shared,sum(CDR3_b.CDR3.value_counts()==i))"
   ]
  },
  {
   "cell_type": "markdown",
   "metadata": {},
   "source": [
    "#### Figure 5A"
   ]
  },
  {
   "cell_type": "code",
   "execution_count": 8,
   "metadata": {
    "collapsed": false
   },
   "outputs": [
    {
     "data": {
      "image/png": "[encoded data removed]",
      "text/plain": [
       "<matplotlib.figure.Figure at 0x1701a4dd0>"
      ]
     },
     "metadata": {},
     "output_type": "display_data"
    }
   ],
   "source": [
    "#Paired\n",
    "f, ax1 = plt.subplots(1, figsize=(3,4))\n",
    "bar_width = 1\n",
    "bar_l = [i+1 for i in range(4)] # positions of the left bar-boundaries\n",
    "tick_pos = [i+(bar_width/2-0.5) for i in bar_l] # positions of the x-axis ticks (center of the bars as bar labels)\n",
    "ax1.bar(bar_l, shared_paired.astype(int), width=bar_width, color='gray', edgecolor='black')\n",
    "ax1.xaxis.set_ticks_position('bottom')\n",
    "plt.xticks(np.array(tick_pos), ['2','3','4','5'], size=8) # set the x ticks with names\n",
    "ax1.set_ylabel(\"% shared\",fontsize=15)\n",
    "ax1.set_xlabel(\"# subjects sharing\",fontsize=15)\n",
    "plt.xlim([min(tick_pos)-bar_width, max(tick_pos)+bar_width])\n",
    "plt.ylim(0,100)\n",
    "plt.tight_layout()\n",
    "plt.savefig('shared_cdr3_pairs.png')"
   ]
  },
  {
   "cell_type": "markdown",
   "metadata": {},
   "source": [
    "#### Figure 5B"
   ]
  },
  {
   "cell_type": "code",
   "execution_count": 9,
   "metadata": {
    "collapsed": false
   },
   "outputs": [
    {
     "data": {
      "image/png": "[encoded data removed]",
      "text/plain": [
       "<matplotlib.figure.Figure at 0x1697f6910>"
      ]
     },
     "metadata": {},
     "output_type": "display_data"
    }
   ],
   "source": [
    "#alpha\n",
    "f, ax1 = plt.subplots(1, figsize=(3,4))\n",
    "bar_width = 1\n",
    "bar_l = [i+1 for i in range(4)] # positions of the left bar-boundaries\n",
    "tick_pos = [i+(bar_width/2-0.5) for i in bar_l] # positions of the x-axis ticks (center of the bars as bar labels)\n",
    "ax1.bar(bar_l, alpha_shared.astype(int), width=bar_width, color='gray', edgecolor='black')\n",
    "ax1.xaxis.set_ticks_position('bottom')\n",
    "plt.xticks(np.array(tick_pos), ['2','3','4','5'], size=8) # set the x ticks with names\n",
    "ax1.set_ylabel(\"% shared\",fontsize=15)\n",
    "ax1.set_xlabel(\"# subjects sharing\",fontsize=15)\n",
    "plt.xlim([min(tick_pos)-bar_width, max(tick_pos)+bar_width])\n",
    "plt.ylim(0,10000)\n",
    "plt.tight_layout()\n",
    "plt.savefig('shared_cdr3_alpha.png')"
   ]
  },
  {
   "cell_type": "markdown",
   "metadata": {},
   "source": [
    "#### Figure 5C"
   ]
  },
  {
   "cell_type": "code",
   "execution_count": 10,
   "metadata": {
    "collapsed": false
   },
   "outputs": [
    {
     "data": {
      "image/png": "[encoded data removed]",
      "text/plain": [
       "<matplotlib.figure.Figure at 0x1741dd610>"
      ]
     },
     "metadata": {},
     "output_type": "display_data"
    }
   ],
   "source": [
    "#beta\n",
    "f, ax1 = plt.subplots(1, figsize=(3,4))\n",
    "bar_width = 1\n",
    "bar_l = [i+1 for i in range(4)] # positions of the left bar-boundaries\n",
    "tick_pos = [i+(bar_width/2-0.5) for i in bar_l] # positions of the x-axis ticks (center of the bars as bar labels)\n",
    "ax1.bar(bar_l, beta_shared.astype(int), width=bar_width, color='gray', edgecolor='black')\n",
    "ax1.xaxis.set_ticks_position('bottom')\n",
    "plt.xticks(np.array(tick_pos), ['2','3','4','5'], size=8) # set the x ticks with names\n",
    "ax1.set_ylabel(\"% shared\",fontsize=15)\n",
    "ax1.set_xlabel(\"# subjects sharing\",fontsize=15)\n",
    "plt.xlim([min(tick_pos)-bar_width, max(tick_pos)+bar_width])\n",
    "plt.ylim(0,2000)\n",
    "plt.tight_layout()\n",
    "plt.savefig('shared_cdr3_beta.png')\n"
   ]
  },
  {
   "cell_type": "code",
   "execution_count": null,
   "metadata": {
    "collapsed": true
   },
   "outputs": [],
   "source": []
  }
 ],
 "metadata": {
  "kernelspec": {
   "display_name": "Python 2",
   "language": "python",
   "name": "python2"
  },
  "language_info": {
   "codemirror_mode": {
    "name": "ipython",
    "version": 2
   },
   "file_extension": ".py",
   "mimetype": "text/x-python",
   "name": "python",
   "nbconvert_exporter": "python",
   "pygments_lexer": "ipython2",
   "version": "2.7.13"
  }
 },
 "nbformat": 4,
 "nbformat_minor": 2
}
