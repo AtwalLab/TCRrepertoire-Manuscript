{
 "cells": [
  {
   "cell_type": "markdown",
   "metadata": {
    "collapsed": true
   },
   "source": [
    "# Shared sequences among individuals"
   ]
  },
  {
   "cell_type": "code",
   "execution_count": 1,
   "metadata": {
    "collapsed": true
   },
   "outputs": [],
   "source": [
    "from __future__ import division\n",
    "import pandas as pd\n",
    "import matplotlib.pyplot as plt\n",
    "import numpy as np\n",
    "import math\n",
    "%matplotlib inline"
   ]
  },
  {
   "cell_type": "code",
   "execution_count": 2,
   "metadata": {
    "collapsed": false
   },
   "outputs": [
    {
     "name": "stdout",
     "output_type": "stream",
     "text": [
      "/Users/kgrigait/Desktop/new_data\n"
     ]
    }
   ],
   "source": [
    "cd /Users/kgrigait/Desktop/new_data"
   ]
  },
  {
   "cell_type": "code",
   "execution_count": 3,
   "metadata": {
    "collapsed": false
   },
   "outputs": [],
   "source": [
    "#Load data\n",
    "TRp_prod_1=pd.read_csv('S1/TRpairs_productive.txt', sep='\\t')\n",
    "TRp_prod_2=pd.read_csv('S2/TRpairs_productive.txt', sep='\\t')\n",
    "TRp_prod_3=pd.read_csv('S3/TRpairs_productive.txt', sep='\\t')\n",
    "TRp_prod_4=pd.read_csv('S4/TRpairs_productive.txt', sep='\\t')\n",
    "TRp_prod_5=pd.read_csv('S5/TRpairs_productive.txt', sep='\\t')"
   ]
  },
  {
   "cell_type": "code",
   "execution_count": 4,
   "metadata": {
    "collapsed": false
   },
   "outputs": [],
   "source": [
    "#Shared paired alpha beta CDR3 sequences.\n",
    "#Connect alpha and beta CDR3 sequences into one.\n",
    "TRp_prod_1['CDR3_AB'] = TRp_prod_1['NSeqCDR3A']+'_'+TRp_prod_1['NSeqCDR3B']\n",
    "TRp_prod_2['CDR3_AB'] = TRp_prod_2['NSeqCDR3A']+'_'+TRp_prod_2['NSeqCDR3B']\n",
    "TRp_prod_3['CDR3_AB'] = TRp_prod_3['NSeqCDR3A']+'_'+TRp_prod_3['NSeqCDR3B']\n",
    "TRp_prod_4['CDR3_AB'] = TRp_prod_4['NSeqCDR3A']+'_'+TRp_prod_4['NSeqCDR3B']\n",
    "TRp_prod_5['CDR3_AB'] = TRp_prod_5['NSeqCDR3A']+'_'+TRp_prod_5['NSeqCDR3B']\n",
    "\n",
    "#Get unique CDR3 sequences\n",
    "CDR3_1=pd.DataFrame(TRp_prod_1.CDR3_AB.unique())\n",
    "CDR3_2=pd.DataFrame(TRp_prod_2.CDR3_AB.unique())\n",
    "CDR3_3=pd.DataFrame(TRp_prod_3.CDR3_AB.unique())\n",
    "CDR3_4=pd.DataFrame(TRp_prod_4.CDR3_AB.unique())\n",
    "CDR3_5=pd.DataFrame(TRp_prod_5.CDR3_AB.unique())\n",
    "\n",
    "#Concatenate all 5 subjects into one dataframe.\n",
    "CDR3_p=pd.concat([CDR3_1,CDR3_2,CDR3_3,CDR3_4,CDR3_5],axis=0)\n",
    "CDR3_p.columns=['CDR3'] #rename the column into a string\n",
    "\n",
    "shared_paired=([]) #initialize an array of paired sequence numbers.\n",
    "for i in range(2,6):\n",
    "    #find number of sequences paired among 2,3,4 and 5 subjects and fill the array\n",
    "    shared_paired=np.append(shared_paired,sum(CDR3_p.CDR3.value_counts()==i))"
   ]
  },
  {
   "cell_type": "code",
   "execution_count": 9,
   "metadata": {
    "collapsed": false
   },
   "outputs": [
    {
     "data": {
      "text/plain": [
       "66168"
      ]
     },
     "execution_count": 9,
     "metadata": {},
     "output_type": "execute_result"
    }
   ],
   "source": [
    "len(TRp_prod_5)"
   ]
  },
  {
   "cell_type": "code",
   "execution_count": 5,
   "metadata": {
    "collapsed": true
   },
   "outputs": [],
   "source": [
    "# Shared sequences from split paired dataframe.\n",
    "\n",
    "#Shared alpha CDR3 sequences.\n",
    "CDR3a_1=pd.DataFrame(TRp_prod_1.NSeqCDR3A.unique())\n",
    "CDR3a_2=pd.DataFrame(TRp_prod_2.NSeqCDR3A.unique())\n",
    "CDR3a_3=pd.DataFrame(TRp_prod_3.NSeqCDR3A.unique())\n",
    "CDR3a_4=pd.DataFrame(TRp_prod_4.NSeqCDR3A.unique())\n",
    "CDR3a_5=pd.DataFrame(TRp_prod_5.NSeqCDR3A.unique())\n",
    "\n",
    "#Concatenate all 5 subjects into one dataframe.\n",
    "CDR3_a=pd.concat([CDR3a_1,CDR3a_2,CDR3a_3,CDR3a_4,CDR3a_5],axis=0)\n",
    "CDR3_a.columns=['CDR3'] #rename the column into a string\n",
    "\n",
    "alpha_shared=([]) #initialize an array of paired sequence numbers.\n",
    "for i in range(2,6):\n",
    "    #find number of sequences paired among 2,3,4 and 5 subjects and fill the array\n",
    "    alpha_shared=np.append(alpha_shared,sum(CDR3_a.CDR3.value_counts()==i))\n",
    "    \n",
    "#Shared beta CDR3 sequences.\n",
    "#Get unique CDR3 sequences\n",
    "CDR3b_1=pd.DataFrame(TRp_prod_1.NSeqCDR3B.unique())\n",
    "CDR3b_2=pd.DataFrame(TRp_prod_2.NSeqCDR3B.unique())\n",
    "CDR3b_3=pd.DataFrame(TRp_prod_3.NSeqCDR3B.unique())\n",
    "CDR3b_4=pd.DataFrame(TRp_prod_4.NSeqCDR3B.unique())\n",
    "CDR3b_5=pd.DataFrame(TRp_prod_5.NSeqCDR3B.unique())\n",
    "\n",
    "#Concatenate all 5 subjects into one dataframe.\n",
    "CDR3_b=pd.concat([CDR3b_1,CDR3b_2,CDR3b_3,CDR3b_4,CDR3b_5],axis=0)\n",
    "CDR3_b.columns=['CDR3'] #rename the column into a string\n",
    "\n",
    "beta_shared=([]) #initialize an array of paired sequence numbers.\n",
    "for i in range(2,6):\n",
    "    #find number of sequences paired among 2,3,4 and 5 subjects and fill the array\n",
    "    beta_shared=np.append(beta_shared,sum(CDR3_b.CDR3.value_counts()==i))"
   ]
  },
  {
   "cell_type": "code",
   "execution_count": 6,
   "metadata": {
    "collapsed": false
   },
   "outputs": [],
   "source": [
    "#Find fraction shared\n",
    "fraction_p=np.divide(shared_paired,len(CDR3_p.CDR3.value_counts()))\n",
    "fraction_a=np.divide(alpha_shared,len(CDR3_a.CDR3.value_counts()))\n",
    "fraction_b=np.divide(beta_shared,len(CDR3_b.CDR3.value_counts()))"
   ]
  },
  {
   "cell_type": "markdown",
   "metadata": {},
   "source": [
    "#### Figure 5A"
   ]
  },
  {
   "cell_type": "code",
   "execution_count": 7,
   "metadata": {
    "collapsed": false
   },
   "outputs": [
    {
     "data": {
      "image/png": "[encoded data removed]",
      "text/plain": [
       "<matplotlib.figure.Figure at 0x1282b9050>"
      ]
     },
     "metadata": {},
     "output_type": "display_data"
    }
   ],
   "source": [
    "f, ax1 = plt.subplots(1, figsize=(10,4))\n",
    "pos = list(range(4)) \n",
    "width = 0.25 \n",
    "\n",
    "# positions of the x-axis ticks (center of the bars as bar labels)\n",
    "ax1.bar(pos, fraction_p, width, color='red', edgecolor='black', label='paired')\n",
    "ax1.bar([p + width for p in pos], fraction_a, width, color='blue', edgecolor='black', label='alpha')\n",
    "ax1.bar([p + width*2 for p in pos], fraction_b, width, color='green', edgecolor='black', label='beta')\n",
    "ax1.xaxis.set_ticks_position('bottom')\n",
    "\n",
    "plt.yscale('log')\n",
    "ax1.set_xticks([p + 1 * width for p in pos])\n",
    "ax1.set_xticklabels(['2','3','4','5'])\n",
    "ax1.set_ylabel(\"fraction shared\",fontsize=15)\n",
    "ax1.set_xlabel(\"# subjects sharing\",fontsize=15)\n",
    "plt.xlim(min(pos)-width, max(pos)+width*4)\n",
    "#plt.ylim(10**0,1)\n",
    "plt.legend(['Paired', 'Alpha', 'Beta'], loc='upper right', fontsize=15)\n",
    "plt.tight_layout()\n",
    "\n",
    "plt.savefig('shared_cdr3_fraction.png')"
   ]
  },
  {
   "cell_type": "markdown",
   "metadata": {},
   "source": [
    "#### Supplementary Figure 10C"
   ]
  },
  {
   "cell_type": "code",
   "execution_count": 8,
   "metadata": {
    "collapsed": false
   },
   "outputs": [
    {
     "data": {
      "image/png": "[encoded data removed]",
      "text/plain": [
       "<matplotlib.figure.Figure at 0x12d345410>"
      ]
     },
     "metadata": {},
     "output_type": "display_data"
    }
   ],
   "source": [
    "f, ax1 = plt.subplots(1, figsize=(10,4))\n",
    "pos = list(range(4)) \n",
    "width = 0.25 \n",
    "\n",
    "# positions of the x-axis ticks (center of the bars as bar labels)\n",
    "ax1.bar(pos, shared_paired, width, color='red', edgecolor='black', label='paired')\n",
    "ax1.bar([p + width for p in pos], alpha_shared, width, color='blue', edgecolor='black', label='alpha')\n",
    "ax1.bar([p + width*2 for p in pos], beta_shared, width, color='green', edgecolor='black', label='beta')\n",
    "ax1.xaxis.set_ticks_position('bottom')\n",
    "\n",
    "plt.yscale('log')\n",
    "ax1.set_xticks([p + 1 * width for p in pos])\n",
    "ax1.set_xticklabels(['2','3','4','5'])\n",
    "ax1.set_ylabel(\"# shared\",fontsize=15)\n",
    "ax1.set_xlabel(\"# subjects sharing\",fontsize=15)\n",
    "plt.xlim(min(pos)-width, max(pos)+width*4)\n",
    "plt.ylim(10**0,4000)\n",
    "plt.legend(['Paired', 'Alpha', 'Beta'], loc='upper right', fontsize=15)\n",
    "plt.tight_layout()\n",
    "\n",
    "plt.savefig('shared_cdr3.png')"
   ]
  },
  {
   "cell_type": "code",
   "execution_count": 9,
   "metadata": {
    "collapsed": true
   },
   "outputs": [],
   "source": [
    "#Shaired pairs per subject\n",
    "#Connect alpha and beta CDR3 sequences into one.\n",
    "TRp_prod_1['CDR3_AB'] = TRp_prod_1['NSeqCDR3A']+'_'+TRp_prod_1['NSeqCDR3B']\n",
    "TRp_prod_2['CDR3_AB'] = TRp_prod_2['NSeqCDR3A']+'_'+TRp_prod_2['NSeqCDR3B']\n",
    "TRp_prod_3['CDR3_AB'] = TRp_prod_3['NSeqCDR3A']+'_'+TRp_prod_3['NSeqCDR3B']\n",
    "TRp_prod_4['CDR3_AB'] = TRp_prod_4['NSeqCDR3A']+'_'+TRp_prod_4['NSeqCDR3B']\n",
    "TRp_prod_5['CDR3_AB'] = TRp_prod_5['NSeqCDR3A']+'_'+TRp_prod_5['NSeqCDR3B']\n",
    "\n",
    "#Get unique CDR3 sequences\n",
    "CDR3_1=pd.DataFrame(TRp_prod_1.CDR3_AB.unique())\n",
    "CDR3_2=pd.DataFrame(TRp_prod_2.CDR3_AB.unique())\n",
    "CDR3_3=pd.DataFrame(TRp_prod_3.CDR3_AB.unique())\n",
    "CDR3_4=pd.DataFrame(TRp_prod_4.CDR3_AB.unique())\n",
    "CDR3_5=pd.DataFrame(TRp_prod_5.CDR3_AB.unique())\n",
    "\n",
    "\n",
    "df_list=[CDR3_1,CDR3_2,CDR3_3,CDR3_4,CDR3_5]\n",
    "subject_list=['S1','S2','S3','S4','S5']"
   ]
  },
  {
   "cell_type": "code",
   "execution_count": 10,
   "metadata": {
    "collapsed": true
   },
   "outputs": [],
   "source": [
    "#initiate dataframe for frequency heat map that preserves directionality, that is how many CDR3s each subject has\n",
    "#that are present in another subject.\n",
    "df_freq_dir=pd.DataFrame(columns=subject_list,index=subject_list)\n",
    "\n",
    "for i in range(5):\n",
    "    for j in range(5):\n",
    "        #for diagonal\n",
    "        if subject_list[i]==subject_list[j]:\n",
    "            df_freq_dir.ix[subject_list[j],subject_list[i]]=np.nan\n",
    "        #for each subject pair \n",
    "        else:\n",
    "            CDR3=pd.concat([df_list[i],df_list[j]],axis=0)\n",
    "            CDR3.columns=['CDR3']\n",
    "            #find number of shared sequences and find what fraction it is of the total number of unique\n",
    "            #equences in each subject.\n",
    "            df_freq_dir.ix[subject_list[j],subject_list[i]]=sum(CDR3.CDR3.value_counts()==2)/len(df_list[j])"
   ]
  },
  {
   "cell_type": "code",
   "execution_count": 11,
   "metadata": {
    "collapsed": true
   },
   "outputs": [],
   "source": [
    "df_freq=pd.DataFrame(columns=subject_list,index=subject_list)\n",
    "\n",
    "for i in range(5):\n",
    "    for j in range(5):\n",
    "        #for diagonal\n",
    "        if subject_list[i]==subject_list[j]:\n",
    "            df_freq.ix[subject_list[j],subject_list[i]]=1.0\n",
    "        # for each subject pair\n",
    "        else:\n",
    "            CDR3=pd.concat([df_list[i],df_list[j]],axis=0)\n",
    "            CDR3.columns=['CDR3']\n",
    "            # find a fraction of CDR3s present in each subject pair out of the total 26 shared sequences.\n",
    "            df_freq.ix[subject_list[j],subject_list[i]]=sum(CDR3.CDR3.value_counts()==2)/26"
   ]
  },
  {
   "cell_type": "code",
   "execution_count": 12,
   "metadata": {
    "collapsed": false
   },
   "outputs": [
    {
     "data": {
      "text/html": [
       "<div>\n",
       "<table border=\"1\" class=\"dataframe\">\n",
       "  <thead>\n",
       "    <tr style=\"text-align: right;\">\n",
       "      <th></th>\n",
       "      <th>S1</th>\n",
       "      <th>S2</th>\n",
       "      <th>S3</th>\n",
       "      <th>S4</th>\n",
       "      <th>S5</th>\n",
       "    </tr>\n",
       "  </thead>\n",
       "  <tbody>\n",
       "    <tr>\n",
       "      <th>S1</th>\n",
       "      <td>1</td>\n",
       "      <td>0.384615</td>\n",
       "      <td>0.269231</td>\n",
       "      <td>0.115385</td>\n",
       "      <td>0</td>\n",
       "    </tr>\n",
       "    <tr>\n",
       "      <th>S2</th>\n",
       "      <td>0.384615</td>\n",
       "      <td>1</td>\n",
       "      <td>0.0769231</td>\n",
       "      <td>0.115385</td>\n",
       "      <td>0</td>\n",
       "    </tr>\n",
       "    <tr>\n",
       "      <th>S3</th>\n",
       "      <td>0.269231</td>\n",
       "      <td>0.0769231</td>\n",
       "      <td>1</td>\n",
       "      <td>0</td>\n",
       "      <td>0</td>\n",
       "    </tr>\n",
       "    <tr>\n",
       "      <th>S4</th>\n",
       "      <td>0.115385</td>\n",
       "      <td>0.115385</td>\n",
       "      <td>0</td>\n",
       "      <td>1</td>\n",
       "      <td>0.0384615</td>\n",
       "    </tr>\n",
       "    <tr>\n",
       "      <th>S5</th>\n",
       "      <td>0</td>\n",
       "      <td>0</td>\n",
       "      <td>0</td>\n",
       "      <td>0.0384615</td>\n",
       "      <td>1</td>\n",
       "    </tr>\n",
       "  </tbody>\n",
       "</table>\n",
       "</div>"
      ],
      "text/plain": [
       "          S1         S2         S3         S4         S5\n",
       "S1         1   0.384615   0.269231   0.115385          0\n",
       "S2  0.384615          1  0.0769231   0.115385          0\n",
       "S3  0.269231  0.0769231          1          0          0\n",
       "S4  0.115385   0.115385          0          1  0.0384615\n",
       "S5         0          0          0  0.0384615          1"
      ]
     },
     "execution_count": 12,
     "metadata": {},
     "output_type": "execute_result"
    }
   ],
   "source": [
    "#see which subjects share CDR3s.\n",
    "df_freq"
   ]
  },
  {
   "cell_type": "code",
   "execution_count": 13,
   "metadata": {
    "collapsed": true
   },
   "outputs": [],
   "source": [
    "#rename columns\n",
    "CDR3_1.columns=['CDR3']\n",
    "CDR3_2.columns=['CDR3']\n",
    "CDR3_3.columns=['CDR3']\n",
    "CDR3_4.columns=['CDR3']\n",
    "CDR3_5.columns=['CDR3']\n",
    "\n",
    "# Subject pairs who have shaired sequences are - 12,13,14,23,24,45\n",
    "# Have a look at clone size distribution of those shared pairs.\n",
    "clone_sizes=np.array([])\n",
    "\n",
    "#S1-S2\n",
    "#concatenate appropriate dataframes and find all CDR3 that are present twice in the new dataframe,\n",
    "#which means they are shared between the two individuals.\n",
    "df=pd.DataFrame(pd.concat([CDR3_1,CDR3_2],axis=0).CDR3.value_counts()==2)\n",
    "df=df[df.CDR3==True]\n",
    "for i in range(len(df)):\n",
    "    # for each CDR3 sequence find clone sizes in each individual and update the array.\n",
    "    clone_sizes=np.append(clone_sizes,len(TRp_prod_1[TRp_prod_1['CDR3_AB']==df.index[i]]))\n",
    "    clone_sizes=np.append(clone_sizes,len(TRp_prod_2[TRp_prod_2['CDR3_AB']==df.index[i]]))\n",
    "\n",
    "#S1-S3\n",
    "df=pd.DataFrame(pd.concat([CDR3_1,CDR3_3],axis=0).CDR3.value_counts()==2)\n",
    "df=df[df.CDR3==True]\n",
    "for i in range(len(df)):\n",
    "    clone_sizes=np.append(clone_sizes,len(TRp_prod_1[TRp_prod_1['CDR3_AB']==df.index[i]]))\n",
    "    clone_sizes=np.append(clone_sizes,len(TRp_prod_3[TRp_prod_3['CDR3_AB']==df.index[i]]))\n",
    "\n",
    "#S1-S4\n",
    "df=pd.DataFrame(pd.concat([CDR3_1,CDR3_4],axis=0).CDR3.value_counts()==2)\n",
    "df=df[df.CDR3==True]\n",
    "for i in range(len(df)):\n",
    "    clone_sizes=np.append(clone_sizes,len(TRp_prod_1[TRp_prod_1['CDR3_AB']==df.index[i]]))\n",
    "    clone_sizes=np.append(clone_sizes,len(TRp_prod_4[TRp_prod_4['CDR3_AB']==df.index[i]]))\n",
    "\n",
    "#S2-S3\n",
    "df=pd.DataFrame(pd.concat([CDR3_2,CDR3_3],axis=0).CDR3.value_counts()==2)\n",
    "df=df[df.CDR3==True]\n",
    "for i in range(len(df)):\n",
    "    clone_sizes=np.append(clone_sizes,len(TRp_prod_2[TRp_prod_2['CDR3_AB']==df.index[i]]))\n",
    "    clone_sizes=np.append(clone_sizes,len(TRp_prod_3[TRp_prod_3['CDR3_AB']==df.index[i]]))\n",
    "\n",
    "#S2-S4\n",
    "df=pd.DataFrame(pd.concat([CDR3_2,CDR3_4],axis=0).CDR3.value_counts()==2)\n",
    "df=df[df.CDR3==True]\n",
    "for i in range(len(df)):\n",
    "    clone_sizes=np.append(clone_sizes,len(TRp_prod_2[TRp_prod_2['CDR3_AB']==df.index[i]]))\n",
    "    clone_sizes=np.append(clone_sizes,len(TRp_prod_4[TRp_prod_4['CDR3_AB']==df.index[i]]))\n",
    "\n",
    "#S4-S5\n",
    "df=pd.DataFrame(pd.concat([CDR3_4,CDR3_5],axis=0).CDR3.value_counts()==2)\n",
    "df=df[df.CDR3==True]\n",
    "for i in range(len(df)):\n",
    "    clone_sizes=np.append(clone_sizes,len(TRp_prod_4[TRp_prod_4['CDR3_AB']==df.index[i]]))\n",
    "    clone_sizes=np.append(clone_sizes,len(TRp_prod_5[TRp_prod_5['CDR3_AB']==df.index[i]]))"
   ]
  },
  {
   "cell_type": "markdown",
   "metadata": {},
   "source": [
    "#### Figure 5C"
   ]
  },
  {
   "cell_type": "code",
   "execution_count": 14,
   "metadata": {
    "collapsed": false
   },
   "outputs": [
    {
     "data": {
      "image/png": "[encoded data removed]",
      "text/plain": [
       "<matplotlib.figure.Figure at 0x11697c250>"
      ]
     },
     "metadata": {},
     "output_type": "display_data"
    }
   ],
   "source": [
    "#Determine clone size distribution.\n",
    "CS, counts = np.unique(clone_sizes,return_counts=True)\n",
    "\n",
    "#plot clone size distribution of shared pairs.\n",
    "plt.plot(CS,counts,'o',color='black',markersize=8)\n",
    "\n",
    "plt.xscale('log')\n",
    "plt.yscale('log')\n",
    "plt.xlabel('shared TCR clone size',fontsize=15)\n",
    "plt.ylabel('occurence',fontsize=15)\n",
    "\n",
    "plt.tight_layout()\n",
    "plt.savefig('shaired_pairs_clonesizes.png')"
   ]
  },
  {
   "cell_type": "code",
   "execution_count": 15,
   "metadata": {
    "collapsed": true
   },
   "outputs": [],
   "source": [
    "#import seaborn for heatmap plotting.\n",
    "import seaborn as sns"
   ]
  },
  {
   "cell_type": "markdown",
   "metadata": {},
   "source": [
    "#### Supplementary Figure 10D"
   ]
  },
  {
   "cell_type": "code",
   "execution_count": 16,
   "metadata": {
    "collapsed": false
   },
   "outputs": [
    {
     "name": "stderr",
     "output_type": "stream",
     "text": [
      "/Users/kgrigait/anaconda/lib/python2.7/site-packages/ipykernel/__main__.py:1: FutureWarning: convert_objects is deprecated.  Use the data-type specific converters pd.to_datetime, pd.to_timedelta and pd.to_numeric.\n",
      "  if __name__ == '__main__':\n"
     ]
    },
    {
     "data": {
      "image/png": "[encoded data removed]",
      "text/plain": [
       "<matplotlib.figure.Figure at 0x128ea0c10>"
      ]
     },
     "metadata": {},
     "output_type": "display_data"
    }
   ],
   "source": [
    "df_freq=df_freq.convert_objects(convert_numeric=True)\n",
    "\n",
    "# Generate a mask for the upper triangle\n",
    "mask = np.zeros_like(df_freq, dtype=np.bool)\n",
    "mask[np.triu_indices_from(mask)] = True\n",
    "\n",
    "# Draw the heatmap with the mask and correct aspect ratio\n",
    "with sns.axes_style(\"white\"):\n",
    "    ax=sns.heatmap(df_freq, mask=mask, cmap=plt.cm.Greys,vmax=0.4,\n",
    "            square=True, linewidths=.01, cbar_kws={\"shrink\": .8})\n",
    "plt.savefig('shared_CDR3s_persubject.png')"
   ]
  },
  {
   "cell_type": "markdown",
   "metadata": {},
   "source": [
    "#### Figure 5B"
   ]
  },
  {
   "cell_type": "code",
   "execution_count": 17,
   "metadata": {
    "collapsed": false
   },
   "outputs": [
    {
     "name": "stderr",
     "output_type": "stream",
     "text": [
      "/Users/kgrigait/anaconda/lib/python2.7/site-packages/ipykernel/__main__.py:2: FutureWarning: convert_objects is deprecated.  Use the data-type specific converters pd.to_datetime, pd.to_timedelta and pd.to_numeric.\n",
      "  from ipykernel import kernelapp as app\n"
     ]
    },
    {
     "data": {
      "image/png": "[encoded data removed]",
      "text/plain": [
       "<matplotlib.figure.Figure at 0x12de6f350>"
      ]
     },
     "metadata": {},
     "output_type": "display_data"
    }
   ],
   "source": [
    "#convert all values to numeric.\n",
    "df_freq_dir=df_freq_dir.convert_objects(convert_numeric=True)\n",
    "\n",
    "#set font size.\n",
    "sns.set(font_scale=1.4)\n",
    "# Draw the heatmap with the mask and correct aspect ratio\n",
    "with sns.axes_style(\"whitegrid\"):\n",
    "    ax=sns.heatmap(df_freq_dir, cmap=plt.cm.hot,vmax=0.0005,\n",
    "            square=True, linewidths=2, linecolor='white', cbar_kws={\"shrink\": .8},annot_kws={\"size\": 13})\n",
    "\n",
    "plt.title('Shared ' + r'$\\alpha\\beta$' + ' CDR3 Fractions')\n",
    "plt.savefig('shared_CDR3_fractions_persubject.png')"
   ]
  },
  {
   "cell_type": "code",
   "execution_count": null,
   "metadata": {
    "collapsed": true
   },
   "outputs": [],
   "source": []
  }
 ],
 "metadata": {
  "kernelspec": {
   "display_name": "Python 2",
   "language": "python",
   "name": "python2"
  },
  "language_info": {
   "codemirror_mode": {
    "name": "ipython",
    "version": 2
   },
   "file_extension": ".py",
   "mimetype": "text/x-python",
   "name": "python",
   "nbconvert_exporter": "python",
   "pygments_lexer": "ipython2",
   "version": "2.7.13"
  }
 },
 "nbformat": 4,
 "nbformat_minor": 2
}
