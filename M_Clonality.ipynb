{
 "cells": [
  {
   "cell_type": "markdown",
   "metadata": {
    "collapsed": true
   },
   "source": [
    "# Clonality Score\n",
    "## How homogeneous is the sample?\n",
    "### The higher the score, the more homogeneous the sample is.\n",
    "####  \n",
    "\n",
    "\n",
    "$$ \n",
    "\\\\Clonality\\space Score = {1} + \\frac{1}{\\log_2n}\\sum_{i} p_i\\log_2p_i\n",
    "$$\n",
    "\n",
    "####  "
   ]
  },
  {
   "cell_type": "code",
   "execution_count": 3,
   "metadata": {
    "collapsed": true
   },
   "outputs": [],
   "source": [
    "from __future__ import division\n",
    "import pandas as pd\n",
    "import matplotlib.pyplot as plt\n",
    "import numpy as np\n",
    "import scipy.stats as stats\n",
    "import math\n",
    "%matplotlib inline"
   ]
  },
  {
   "cell_type": "code",
   "execution_count": 2,
   "metadata": {
    "collapsed": false
   },
   "outputs": [
    {
     "name": "stdout",
     "output_type": "stream",
     "text": [
      "/Users/kgrigait/Desktop/new_data\n"
     ]
    }
   ],
   "source": [
    "cd /Users/kgrigait/Desktop/new_data"
   ]
  },
  {
   "cell_type": "code",
   "execution_count": 4,
   "metadata": {
    "collapsed": false
   },
   "outputs": [],
   "source": [
    "#load data - paired CD4/CD8 dataframes.\n",
    "TRpCD4_prod_1=pd.read_csv('S1/TRcd4_productive.txt', sep='\\t')\n",
    "TRpCD4_prod_2=pd.read_csv('S2/TRcd4_productive.txt', sep='\\t')\n",
    "TRpCD4_prod_3=pd.read_csv('S3/TRcd4_productive.txt', sep='\\t')\n",
    "TRpCD4_prod_4=pd.read_csv('S4/TRcd4_productive.txt', sep='\\t')\n",
    "TRpCD4_prod_5=pd.read_csv('S5/TRcd4_productive.txt', sep='\\t')\n",
    "\n",
    "TRpCD8_prod_1=pd.read_csv('S1/TRcd8_productive.txt', sep='\\t')\n",
    "TRpCD8_prod_2=pd.read_csv('S2/TRcd8_productive.txt', sep='\\t')\n",
    "TRpCD8_prod_3=pd.read_csv('S3/TRcd8_productive.txt', sep='\\t')\n",
    "TRpCD8_prod_4=pd.read_csv('S4/TRcd8_productive.txt', sep='\\t')\n",
    "TRpCD8_prod_5=pd.read_csv('S5/TRcd8_productive.txt', sep='\\t')"
   ]
  },
  {
   "cell_type": "code",
   "execution_count": 5,
   "metadata": {
    "collapsed": true
   },
   "outputs": [],
   "source": [
    "def clonality(df):\n",
    "    \"\"\"This function calculates clonality score by subtracting Shannon's\n",
    "    Entropy from 1 for paired as well as split by alpha and beta chain dataframes.\n",
    "    Input: df - paired alpha/beta dataframe.\n",
    "    Outputs: clonality score for paired, alpha and beta datasets.\n",
    "    \"\"\"\n",
    "    #Put alpha and beta chain sequences into one string.\n",
    "    df['CDR3_AB'] = df['NSeqCDR3A']+'_'+df['NSeqCDR3B']\n",
    "    #calculate the number of occurances of each paired, alpha and beta sequences.\n",
    "    p_count=pd.DataFrame(df.CDR3_AB.value_counts())\n",
    "    a_count=pd.DataFrame(df.NSeqCDR3A.value_counts())\n",
    "    b_count=pd.DataFrame(df.NSeqCDR3B.value_counts())\n",
    "    #calculate frequencies of each paired, alpha and beta sequences.\n",
    "    p_freq=np.divide((np.array(p_count.CDR3_AB)+0.0),sum(np.array(p_count.CDR3_AB)+0.0))\n",
    "    a_freq=np.divide((np.array(a_count.NSeqCDR3A)+0.0), sum(np.array(a_count.NSeqCDR3A)+0.0))\n",
    "    b_freq=np.divide((np.array(b_count.NSeqCDR3B)+0.0), sum(np.array(b_count.NSeqCDR3B)+0.0))\n",
    "    #calculate clonality score using the frequencies of each unique sequence.\n",
    "    p_clonality=1-np.sum(np.multiply(np.log2(p_freq),p_freq))*(-1)/(math.log(len(p_freq))/math.log(2))\n",
    "    a_clonality=1-np.sum(np.multiply(np.log2(a_freq),a_freq))*(-1)/(math.log(len(a_freq))/math.log(2))\n",
    "    b_clonality=1-np.sum(np.multiply(np.log2(b_freq),b_freq))*(-1)/(math.log(len(b_freq))/math.log(2))\n",
    "    return p_clonality, a_clonality, b_clonality\n",
    "    "
   ]
  },
  {
   "cell_type": "code",
   "execution_count": 6,
   "metadata": {
    "collapsed": false
   },
   "outputs": [],
   "source": [
    "#Use the function to calculate clonality scores for each subject.\n",
    "p41, a41, b41 = clonality(TRpCD4_prod_1)\n",
    "p42, a42, b42 = clonality(TRpCD4_prod_2)\n",
    "p43, a43, b43 = clonality(TRpCD4_prod_3)\n",
    "p44, a44, b44 = clonality(TRpCD4_prod_4)\n",
    "p45, a45, b45 = clonality(TRpCD4_prod_5)\n",
    "\n",
    "p81, a81, b81 = clonality(TRpCD8_prod_1)\n",
    "p82, a82, b82 = clonality(TRpCD8_prod_2)\n",
    "p83, a83, b83 = clonality(TRpCD8_prod_3)\n",
    "p84, a84, b84 = clonality(TRpCD8_prod_4)\n",
    "p85, a85, b85 = clonality(TRpCD8_prod_5)"
   ]
  },
  {
   "cell_type": "markdown",
   "metadata": {},
   "source": [
    "#### Figure 4D"
   ]
  },
  {
   "cell_type": "code",
   "execution_count": 7,
   "metadata": {
    "collapsed": false
   },
   "outputs": [
    {
     "data": {
      "image/png": "[encoded data removed]",
      "text/plain": [
       "<matplotlib.figure.Figure at 0x1220de2d0>"
      ]
     },
     "metadata": {},
     "output_type": "display_data"
    }
   ],
   "source": [
    "#make arrays of clonality scores for paired, and alpha and beta sequences.\n",
    "paired=([p41,p81,p42,p82,p43,p83,p44,p84,p45,p85])\n",
    "alpha=([a41,a81,a42,a82,a43,a83,a44,a84,a45,a85])\n",
    "beta=([b41,b81,b42,b82,b43,b83,b44,b84,b45,b85])\n",
    "#initiate x axis.\n",
    "n=([1,2,3,4,5,6,7,8,9,10])\n",
    "\n",
    "f, ax = plt.subplots(1, figsize=(10,4))\n",
    "ax.scatter(n,paired,color='orange', edgecolor='black', marker='o', s=150, label='Paired')\n",
    "ax.scatter(n,alpha,color='red', edgecolor='black', marker='o', s=150, label='Alpha')\n",
    "ax.scatter(n,beta,color='blue', edgecolor='black', marker='o', s=150, label='Beta')\n",
    "plt.ylim(-0.01,0.2)\n",
    "x_ticks_labels = ['CD4','CD8','CD4','CD8','CD4','CD8','CD4','CD8','CD4','CD8']\n",
    "ax.set_xticks(n)\n",
    "ax.set_xticklabels(x_ticks_labels, rotation='horizontal', fontsize=14)\n",
    "plt.ylabel('Clonality', fontsize=15)\n",
    "\n",
    "ax2 = ax.twiny()\n",
    "ax2.set_xlim(0, 10)\n",
    "ax2.set_xticks([1,3,5,7,9])\n",
    "x2_ticks_labels=['S1','S2','S3','S4','S5']\n",
    "ax2.set_xticklabels(x2_ticks_labels, rotation='horizontal', fontsize=18)\n",
    "\n",
    "ax.legend(fontsize=14, loc='upper left')\n",
    "for i in np.arange(2.5,10.5,2):\n",
    "    ax.axvline(i, linestyle='--', color='k')\n",
    "plt.tight_layout()\n",
    "plt.savefig('clonality_pairedvsingle.png')\n"
   ]
  },
  {
   "cell_type": "code",
   "execution_count": null,
   "metadata": {
    "collapsed": true
   },
   "outputs": [],
   "source": []
  }
 ],
 "metadata": {
  "kernelspec": {
   "display_name": "Python 2",
   "language": "python",
   "name": "python2"
  },
  "language_info": {
   "codemirror_mode": {
    "name": "ipython",
    "version": 2
   },
   "file_extension": ".py",
   "mimetype": "text/x-python",
   "name": "python",
   "nbconvert_exporter": "python",
   "pygments_lexer": "ipython2",
   "version": "2.7.13"
  }
 },
 "nbformat": 4,
 "nbformat_minor": 2
}
